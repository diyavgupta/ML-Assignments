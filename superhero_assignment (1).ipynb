{
  "cells": [
    {
      "cell_type": "markdown",
      "metadata": {
        "id": "view-in-github"
      },
      "source": [
        "<a href=\"https://colab.research.google.com/github/fourfeatherz/DS2002S25/blob/main/python/superhero_assignment.ipynb\" target=\"_parent\"><img src=\"https://colab.research.google.com/assets/colab-badge.svg\" alt=\"Open In Colab\"/></a>"
      ],
      "id": "view-in-github"
    },
    {
      "cell_type": "markdown",
      "id": "5fa8dcf6",
      "metadata": {
        "id": "5fa8dcf6"
      },
      "source": [
        "# Superhero Database Assignment (SQLite & Google Colab)\n",
        "\n",
        "## Objective\n",
        "In this assignment, you will design and implement a **Superhero Database** using SQLite in Google Colab. This database will store superheroes, villains, and their battles. You will write SQL queries to analyze battle outcomes and relationships between heroes and villains.\n",
        "\n",
        "### Group Size:\n",
        "- 2 to 3 students per group.\n",
        "\n",
        "### Tools Required:\n",
        "- **Google Colab**\n",
        "- **SQLite (built into Python)**\n",
        "- **CSV files (provided for import)**"
      ]
    },
    {
      "cell_type": "markdown",
      "id": "5535e625",
      "metadata": {
        "id": "5535e625"
      },
      "source": [
        "## Step 1: Setting Up Your SQLite Database\n",
        "\n",
        "### Tasks:\n",
        "1. Initialize SQLite in Google Colab.\n",
        "2. Create a database named `superhero_db.sqlite`.\n",
        "3. Define the database schema, ensuring it includes the following tables:\n",
        "   - `heroes`: Stores superhero names, powers, and teams.\n",
        "   - `villains`: Stores villains and their evil plans.\n",
        "   - `battles`: Tracks battles between heroes and villains, including the outcome.\n",
        "4. Implement primary keys and foreign keys where appropriate.\n",
        "\n",
        "✅ **Checkpoint:** Ensure that the database and tables have been successfully created."
      ]
    },
    {
      "cell_type": "code",
      "source": [
        "import sqlite3\n",
        "\n",
        "#connect to the database\n",
        "conn = sqlite3.connect('superhero_db.sqlite')\n",
        "cursor = conn.cursor()\n",
        "\n",
        "#create heroes table\n",
        "cursor.execute(\"\"\"\n",
        "CREATE TABLE IF NOT EXISTS heroes (\n",
        "    hero_id INTEGER PRIMARY KEY AUTOINCREMENT,\n",
        "    name TEXT NOT NULL UNIQUE,\n",
        "    power TEXT NOT NULL,\n",
        "    team TEXT\n",
        ");\n",
        "\"\"\")\n",
        "\n",
        "#create villains table\n",
        "cursor.execute(\"\"\"\n",
        "CREATE TABLE IF NOT EXISTS villains (\n",
        "    villain_id INTEGER PRIMARY KEY AUTOINCREMENT,\n",
        "    name TEXT NOT NULL UNIQUE,\n",
        "    evil_plan TEXT NOT NULL\n",
        ");\n",
        "\"\"\")\n",
        "\n",
        "#create battles table\n",
        "cursor.execute(\"\"\"\n",
        "CREATE TABLE IF NOT EXISTS battles (\n",
        "    battle_id INTEGER PRIMARY KEY AUTOINCREMENT,\n",
        "    hero_id INTEGER NOT NULL,\n",
        "    villain_id INTEGER NOT NULL,\n",
        "    outcome TEXT CHECK(outcome IN ('Hero Wins', 'Villain Wins', 'Draw')) NOT NULL,\n",
        "    battle_date TIMESTAMP DEFAULT CURRENT_TIMESTAMP,\n",
        "    FOREIGN KEY (hero_id) REFERENCES heroes(hero_id),\n",
        "    FOREIGN KEY (villain_id) REFERENCES villains(villain_id)\n",
        ");\n",
        "\"\"\")\n",
        "\n",
        "#commit and close the connection\n",
        "conn.commit()\n",
        "conn.close()\n",
        "\n",
        "print(\"Database created successfully!\")\n",
        "\n"
      ],
      "metadata": {
        "colab": {
          "base_uri": "https://localhost:8080/"
        },
        "id": "R5O-Nl8t5vQv",
        "outputId": "a0f12693-bb83-41aa-b8f7-8374efa47f3a"
      },
      "id": "R5O-Nl8t5vQv",
      "execution_count": 34,
      "outputs": [
        {
          "output_type": "stream",
          "name": "stdout",
          "text": [
            "Database created successfully!\n"
          ]
        }
      ]
    },
    {
      "cell_type": "markdown",
      "id": "154b3c3a",
      "metadata": {
        "id": "154b3c3a"
      },
      "source": [
        "## Step 2: Import Data from CSV Files\n",
        "\n",
        "### Tasks:\n",
        "1. Download the provided CSV files.\n",
        "2. Upload them to Google Colab.\n",
        "3. Write a script to import data from these files into the appropriate tables.\n",
        "4. Verify that the data has been successfully inserted.\n",
        "\n",
        "✅ **Checkpoint:** Ensure that each table contains the expected data from the CSV files."
      ]
    },
    {
      "cell_type": "code",
      "source": [
        "import pandas as pd\n",
        "import sqlite3\n",
        "\n",
        "#reconnect to the database\n",
        "conn = sqlite3.connect(\"superhero_db.sqlite\")\n",
        "\n",
        "#load and insert heroes data\n",
        "df_heroes = pd.read_csv(\"/heroes.csv\")\n",
        "\n",
        "#rename 'id' column to match the database schema\n",
        "df_heroes = df_heroes.rename(columns={'id': 'hero_id', 'power': 'powers'}) #i couldn't get it to work without doing this\n",
        "\n",
        "#insert into the heroes table\n",
        "df_heroes.to_sql(\"heroes\", conn, if_exists=\"replace\", index=False)\n",
        "print(\"hero data inserted successfully!\")\n",
        "\n",
        "#load and insert villains data\n",
        "df_villains = pd.read_csv(\"/villains.csv\")\n",
        "\n",
        "#rename 'id' column to match the database schema\n",
        "df_villains = df_villains.rename(columns={'id': 'villain_id'})\n",
        "\n",
        "#insert into the villains table\n",
        "df_villains.to_sql(\"villains\", conn, if_exists=\"replace\", index=False)\n",
        "print(\"villain data inserted successfully!\")\n",
        "\n",
        "#load and insert battles data\n",
        "df_battles = pd.read_csv(\"/battles.csv\")\n",
        "\n",
        "#rename 'id' column to match the database schema\n",
        "df_battles = df_battles.rename(columns={'id': 'battle_id'})\n",
        "\n",
        "#insert into the battles table\n",
        "df_battles.to_sql(\"battles\", conn, if_exists=\"replace\", index=False)\n",
        "\n",
        "print(\"battle data inserted successfully!\")\n",
        "\n",
        "#close connection\n",
        "conn.close()\n",
        "print(\"all .csv data has been successfully imported into the database!\")\n"
      ],
      "metadata": {
        "colab": {
          "base_uri": "https://localhost:8080/"
        },
        "id": "xnC4sSSAN1ZP",
        "outputId": "2101869a-a0da-4ebf-cff9-11770356b5fa"
      },
      "id": "xnC4sSSAN1ZP",
      "execution_count": 37,
      "outputs": [
        {
          "output_type": "stream",
          "name": "stdout",
          "text": [
            "hero data inserted successfully!\n",
            "villain data inserted successfully!\n",
            "battle data inserted successfully!\n",
            "all .csv data has been successfully imported into the database!\n"
          ]
        }
      ]
    },
    {
      "cell_type": "code",
      "source": [
        "import sqlite3\n",
        "\n",
        "conn = sqlite3.connect(\"superhero_db.sqlite\")\n",
        "cursor = conn.cursor()\n",
        "\n",
        "#check and display data from a table\n",
        "def check_table_data(table_name):\n",
        "    cursor.execute(f\"SELECT * FROM {table_name};\")\n",
        "    rows = cursor.fetchall()\n",
        "\n",
        "    print(f\"\\n {table_name} table data:\")\n",
        "    if rows:\n",
        "        for row in rows:\n",
        "            print(row)\n",
        "    else:\n",
        "        print(\"No data found!\")\n",
        "\n",
        "#check data in all tables\n",
        "check_table_data(\"heroes\")\n",
        "check_table_data(\"villains\")\n",
        "check_table_data(\"battles\")\n",
        "conn.close()\n"
      ],
      "metadata": {
        "colab": {
          "base_uri": "https://localhost:8080/"
        },
        "id": "Rg0kqS7BOx60",
        "outputId": "a6398a41-2bd3-4ea1-fb46-79c23ce6b87e"
      },
      "id": "Rg0kqS7BOx60",
      "execution_count": 60,
      "outputs": [
        {
          "output_type": "stream",
          "name": "stdout",
          "text": [
            "\n",
            " heroes table data:\n",
            "(1, 'Spider-Man', 'Web-slinging', 'Avengers')\n",
            "(2, 'Iron Man', 'Powered Armor', 'Avengers')\n",
            "(3, 'Batman', 'Genius Detective', 'Justice League')\n",
            "(4, 'Superman', 'Super Strength', 'Justice League')\n",
            "(5, 'Thor', 'God of Thunder', 'Avengers')\n",
            "(6, 'Wonder Woman', 'Amazonian Strength', 'Justice League')\n",
            "(7, 'Black Panther', 'Enhanced Agility', 'Avengers')\n",
            "(8, 'The Flash', 'Super Speed', 'Justice League')\n",
            "(9, 'Hulk', 'Super Strength', 'Avengers')\n",
            "(10, 'Doctor Strange', 'Mystic Arts', 'Avengers')\n",
            "\n",
            " villains table data:\n",
            "(1, 'Green Goblin', 'Terrorize New York')\n",
            "(2, 'Thanos', 'Collect all Infinity Stones')\n",
            "(3, 'Joker', 'Spread chaos in Gotham')\n",
            "(4, 'Lex Luthor', 'Defeat Superman')\n",
            "(5, 'Loki', 'Trick humanity into worshiping him')\n",
            "(6, 'Ultron', 'AI world domination')\n",
            "(7, 'Darkseid', 'Control the universe')\n",
            "(8, 'Venom', 'Consume Spider-Man')\n",
            "(9, 'Magneto', 'Mutant supremacy')\n",
            "(10, 'Red Skull', 'Revive Hydra')\n",
            "\n",
            " battles table data:\n",
            "(1, 1, 10, 'Villain Wins')\n",
            "(2, 9, 3, 'Hero Wins')\n",
            "(3, 8, 1, 'Draw')\n",
            "(4, 5, 4, 'Villain Wins')\n",
            "(5, 1, 7, 'Hero Wins')\n",
            "(6, 2, 8, 'Villain Wins')\n",
            "(7, 9, 8, 'Hero Wins')\n",
            "(8, 3, 2, 'Hero Wins')\n",
            "(9, 7, 5, 'Hero Wins')\n",
            "(10, 3, 1, 'Draw')\n",
            "(11, 1, 8, 'Villain Wins')\n",
            "(12, 2, 1, 'Draw')\n",
            "(13, 8, 9, 'Hero Wins')\n",
            "(14, 8, 1, 'Draw')\n",
            "(15, 6, 10, 'Draw')\n",
            "(16, 1, 1, 'Villain Wins')\n",
            "(17, 8, 3, 'Draw')\n",
            "(18, 6, 3, 'Villain Wins')\n",
            "(19, 4, 8, 'Villain Wins')\n",
            "(20, 3, 4, 'Hero Wins')\n",
            "(21, 8, 1, 'Draw')\n",
            "(22, 4, 9, 'Draw')\n",
            "(23, 3, 9, 'Draw')\n",
            "(24, 8, 9, 'Villain Wins')\n",
            "(25, 2, 5, 'Draw')\n",
            "(26, 3, 7, 'Draw')\n",
            "(27, 10, 3, 'Draw')\n",
            "(28, 3, 8, 'Draw')\n",
            "(29, 3, 5, 'Hero Wins')\n",
            "(30, 5, 5, 'Hero Wins')\n"
          ]
        }
      ]
    },
    {
      "cell_type": "markdown",
      "id": "33548d9f",
      "metadata": {
        "id": "33548d9f"
      },
      "source": [
        "## Step 3: Querying the Database\n",
        "\n",
        "### Tasks:\n",
        "Write SQL queries to answer the following:\n",
        "1. Retrieve all superheroes and their powers.\n",
        "2. Find all battles where the hero won.\n",
        "3. List all villains and their evil plans.\n",
        "4. Determine which superhero has fought the most battles.\n",
        "\n",
        "✅ **Checkpoint:** Ensure that all queries return meaningful results from the database."
      ]
    },
    {
      "cell_type": "code",
      "source": [
        "import sqlite3\n",
        "\n",
        "#retrieve all superheroes and their powers\n",
        "conn = sqlite3.connect(\"superhero_db.sqlite\")\n",
        "cursor = conn.cursor()\n",
        "cursor.execute(\"SELECT name, powers FROM heroes;\")\n",
        "heroes = cursor.fetchall()\n",
        "print(\"\\n all superheroes and their powers:\")\n",
        "for hero in heroes:\n",
        "    print(hero)\n",
        "conn.close()\n"
      ],
      "metadata": {
        "colab": {
          "base_uri": "https://localhost:8080/"
        },
        "id": "ST8i0BPlPUnU",
        "outputId": "3826b09f-14eb-4090-b03c-849a40e2286d"
      },
      "id": "ST8i0BPlPUnU",
      "execution_count": 50,
      "outputs": [
        {
          "output_type": "stream",
          "name": "stdout",
          "text": [
            "\n",
            " all superheroes and their powers:\n",
            "('Spider-Man', 'Web-slinging')\n",
            "('Iron Man', 'Powered Armor')\n",
            "('Batman', 'Genius Detective')\n",
            "('Superman', 'Super Strength')\n",
            "('Thor', 'God of Thunder')\n",
            "('Wonder Woman', 'Amazonian Strength')\n",
            "('Black Panther', 'Enhanced Agility')\n",
            "('The Flash', 'Super Speed')\n",
            "('Hulk', 'Super Strength')\n",
            "('Doctor Strange', 'Mystic Arts')\n"
          ]
        }
      ]
    },
    {
      "cell_type": "code",
      "source": [
        "#find all battles where the hero won\n",
        "conn = sqlite3.connect(\"superhero_db.sqlite\")\n",
        "cursor = conn.cursor()\n",
        "cursor.execute(\"\"\"\n",
        "    SELECT battles.battle_id, heroes.name AS hero_name, villains.name AS villain_name, battles.outcome\n",
        "    FROM battles\n",
        "    JOIN heroes ON battles.hero_id = heroes.hero_id\n",
        "    JOIN villains ON battles.villain_id = villains.villain_id\n",
        "    WHERE battles.outcome = 'Hero Wins';\n",
        "\"\"\")\n",
        "hero_wins = cursor.fetchall()\n",
        "\n",
        "print(\"\\n battles where the hero won:\")\n",
        "for battle in hero_wins:\n",
        "    print(battle)\n",
        "conn.close()\n"
      ],
      "metadata": {
        "colab": {
          "base_uri": "https://localhost:8080/"
        },
        "id": "a6PzVGbsPrgU",
        "outputId": "0f4934f4-56ae-4fe9-d9fa-235a905a933a"
      },
      "id": "a6PzVGbsPrgU",
      "execution_count": 49,
      "outputs": [
        {
          "output_type": "stream",
          "name": "stdout",
          "text": [
            "\n",
            " battles where the hero won:\n",
            "(2, 'Hulk', 'Joker', 'Hero Wins')\n",
            "(5, 'Spider-Man', 'Darkseid', 'Hero Wins')\n",
            "(7, 'Hulk', 'Venom', 'Hero Wins')\n",
            "(8, 'Batman', 'Thanos', 'Hero Wins')\n",
            "(9, 'Black Panther', 'Loki', 'Hero Wins')\n",
            "(13, 'The Flash', 'Magneto', 'Hero Wins')\n",
            "(20, 'Batman', 'Lex Luthor', 'Hero Wins')\n",
            "(29, 'Batman', 'Loki', 'Hero Wins')\n",
            "(30, 'Thor', 'Loki', 'Hero Wins')\n"
          ]
        }
      ]
    },
    {
      "cell_type": "code",
      "source": [
        "#list all villains and their evil plans\n",
        "conn = sqlite3.connect(\"superhero_db.sqlite\")\n",
        "cursor = conn.cursor()\n",
        "cursor.execute(\"SELECT name, evil_plan FROM villains;\")\n",
        "villains = cursor.fetchall()\n",
        "\n",
        "print(\"\\n all villains and their evil plans:\")\n",
        "for villain in villains:\n",
        "    print(villain)\n",
        "conn.close()"
      ],
      "metadata": {
        "colab": {
          "base_uri": "https://localhost:8080/"
        },
        "id": "UYB3v_yCQKRA",
        "outputId": "5d6e31eb-bd7f-43b2-db0d-8a0f3828867f"
      },
      "id": "UYB3v_yCQKRA",
      "execution_count": 48,
      "outputs": [
        {
          "output_type": "stream",
          "name": "stdout",
          "text": [
            "\n",
            " all villains and their evil plans:\n",
            "('Green Goblin', 'Terrorize New York')\n",
            "('Thanos', 'Collect all Infinity Stones')\n",
            "('Joker', 'Spread chaos in Gotham')\n",
            "('Lex Luthor', 'Defeat Superman')\n",
            "('Loki', 'Trick humanity into worshiping him')\n",
            "('Ultron', 'AI world domination')\n",
            "('Darkseid', 'Control the universe')\n",
            "('Venom', 'Consume Spider-Man')\n",
            "('Magneto', 'Mutant supremacy')\n",
            "('Red Skull', 'Revive Hydra')\n"
          ]
        }
      ]
    },
    {
      "cell_type": "code",
      "source": [
        "#determine which superhero has fought the most battles\n",
        "conn = sqlite3.connect(\"superhero_db.sqlite\")\n",
        "cursor = conn.cursor()\n",
        "cursor.execute(\"\"\"\n",
        "    SELECT heroes.name, COUNT(battles.battle_id) AS total_battles\n",
        "    FROM battles\n",
        "    JOIN heroes ON battles.hero_id = heroes.hero_id\n",
        "    GROUP BY heroes.name\n",
        "    ORDER BY total_battles DESC\n",
        "    LIMIT 1;\n",
        "\"\"\")\n",
        "most_battles = cursor.fetchone()\n",
        "\n",
        "print(\"\\n superhero with the most battles:\")\n",
        "print(most_battles)\n",
        "conn.close()\n"
      ],
      "metadata": {
        "colab": {
          "base_uri": "https://localhost:8080/"
        },
        "id": "UWbY4UMYQReq",
        "outputId": "845b19ad-425c-45ba-e1dd-7c10135dd2c3"
      },
      "id": "UWbY4UMYQReq",
      "execution_count": 47,
      "outputs": [
        {
          "output_type": "stream",
          "name": "stdout",
          "text": [
            "\n",
            " superhero with the most battles:\n",
            "('Batman', 7)\n"
          ]
        }
      ]
    },
    {
      "cell_type": "markdown",
      "id": "de8bda94",
      "metadata": {
        "id": "de8bda94"
      },
      "source": [
        "## Step 4: Add a Custom Feature\n",
        "\n",
        "### Tasks:\n",
        "1. Design and implement an additional table related to superheroes or villains.\n",
        "2. Populate it with data.\n",
        "3. Write at least one query to retrieve meaningful insights from the new table.\n",
        "\n",
        "**Examples of Custom Features:**\n",
        "- Sidekicks for superheroes\n",
        "- Villain hideouts\n",
        "- Battle locations\n",
        "- Superhero equipment\n",
        "\n",
        "✅ **Checkpoint:** Ensure that the new table and queries function correctly."
      ]
    },
    {
      "cell_type": "code",
      "source": [
        "import sqlite3\n",
        "\n",
        "conn = sqlite3.connect(\"superhero_db.sqlite\")\n",
        "cursor = conn.cursor()\n",
        "\n",
        "#love_interests table\n",
        "cursor.execute(\"\"\"\n",
        "    CREATE TABLE IF NOT EXISTS love_interests (\n",
        "        love_id INTEGER PRIMARY KEY AUTOINCREMENT,\n",
        "        hero_id INTEGER NOT NULL,\n",
        "        love_interest_name TEXT NOT NULL,\n",
        "        relationship_description TEXT,\n",
        "        FOREIGN KEY (hero_id) REFERENCES heroes(hero_id)\n",
        "    );\n",
        "\"\"\")\n",
        "\n",
        "#commit and close\n",
        "conn.commit()\n",
        "conn.close()\n",
        "\n",
        "print(\"love interests table created successfully!\")\n"
      ],
      "metadata": {
        "colab": {
          "base_uri": "https://localhost:8080/"
        },
        "id": "oPg5fSJTRMNb",
        "outputId": "b2d294b0-6cb8-441f-ed1d-dff942f07d26"
      },
      "id": "oPg5fSJTRMNb",
      "execution_count": 53,
      "outputs": [
        {
          "output_type": "stream",
          "name": "stdout",
          "text": [
            "love interests table created successfully!\n"
          ]
        }
      ]
    },
    {
      "cell_type": "code",
      "source": [
        "conn = sqlite3.connect(\"superhero_db.sqlite\")\n",
        "cursor = conn.cursor()\n",
        "\n",
        "#sample love interests data\n",
        "love_interests_data = [\n",
        "    (1, \"Lois Lane\", \"Long-time love interest of Superman.\"),\n",
        "    (2, \"Selina Kyle (Catwoman)\", \"Complicated relationship with Batman.\"),\n",
        "    (3, \"Mary Jane Watson\", \"Spider-Man's most well-known love interest.\"),\n",
        "    (3, \"Gwen Stacy\", \"Tragic love story with Spider-Man.\"),\n",
        "    (4, \"Peggy Carter\", \"Steve Rogers' first love before being frozen.\"),\n",
        "    (4, \"Sharon Carter\", \"Peggy's niece, later love interest of Captain America.\"),\n",
        "    (5, \"Jane Foster\", \"Thor’s human love interest.\"),\n",
        "]\n",
        "\n",
        "#insert data\n",
        "cursor.executemany(\"\"\"\n",
        "    INSERT INTO love_interests (hero_id, love_interest_name, relationship_description)\n",
        "    VALUES (?, ?, ?);\n",
        "\"\"\", love_interests_data)\n",
        "\n",
        "#commit and close\n",
        "conn.commit()\n",
        "conn.close()\n",
        "\n",
        "print(\"love interests data inserted successfully!\")\n"
      ],
      "metadata": {
        "colab": {
          "base_uri": "https://localhost:8080/"
        },
        "id": "SNJpuhgiRZYk",
        "outputId": "033c4c8d-e0c1-4dc8-b32c-2744f6b105ff"
      },
      "id": "SNJpuhgiRZYk",
      "execution_count": 54,
      "outputs": [
        {
          "output_type": "stream",
          "name": "stdout",
          "text": [
            "love interests data inserted successfully!\n"
          ]
        }
      ]
    },
    {
      "cell_type": "code",
      "source": [
        "#query retrieving all superheroes and their love interests\n",
        "conn = sqlite3.connect(\"superhero_db.sqlite\")\n",
        "cursor = conn.cursor()\n",
        "cursor.execute(\"\"\"\n",
        "    SELECT heroes.name, love_interests.love_interest_name, love_interests.relationship_description\n",
        "    FROM love_interests\n",
        "    JOIN heroes ON love_interests.hero_id = heroes.hero_id;\n",
        "\"\"\")\n",
        "\n",
        "love_list = cursor.fetchall()\n",
        "\n",
        "print(\"\\n superhero love interests:\")\n",
        "for item in love_list:\n",
        "    print(item)\n",
        "conn.close()\n"
      ],
      "metadata": {
        "colab": {
          "base_uri": "https://localhost:8080/"
        },
        "id": "gweRnWArRuJD",
        "outputId": "0dc7d8b9-55f2-4ece-b9d5-3227d9cb3f5a"
      },
      "id": "gweRnWArRuJD",
      "execution_count": 61,
      "outputs": [
        {
          "output_type": "stream",
          "name": "stdout",
          "text": [
            "\n",
            " superhero love interests:\n",
            "('Spider-Man', 'Lois Lane', 'Long-time love interest of Superman.')\n",
            "('Iron Man', 'Selina Kyle (Catwoman)', 'Complicated relationship with Batman.')\n",
            "('Batman', 'Mary Jane Watson', \"Spider-Man's most well-known love interest.\")\n",
            "('Batman', 'Gwen Stacy', 'Tragic love story with Spider-Man.')\n",
            "('Superman', 'Peggy Carter', \"Steve Rogers' first love before being frozen.\")\n",
            "('Superman', 'Sharon Carter', \"Peggy's niece, later love interest of Captain America.\")\n",
            "('Thor', 'Jane Foster', 'Thor’s human love interest.')\n"
          ]
        }
      ]
    },
    {
      "cell_type": "markdown",
      "id": "9bf43fe6",
      "metadata": {
        "id": "9bf43fe6"
      },
      "source": [
        "## Bonus Challenge (+5 Points)\n",
        "\n",
        "### Tasks:\n",
        "1. Enhance your project by adding a visual or interactive component.\n",
        "\n",
        "**Options:**\n",
        "- Visualize battles using Matplotlib (e.g., a bar chart showing how many battles each superhero has fought).\n",
        "- Make it interactive (e.g., allow users to input a superhero name and display their battles).\n",
        "\n",
        "✅ **Checkpoint:** If attempting the bonus, ensure that your visualization or interactive component works correctly."
      ]
    },
    {
      "cell_type": "code",
      "source": [
        "import sqlite3\n",
        "import pandas as pd\n",
        "import matplotlib.pyplot as plt\n",
        "\n",
        "#counting battles per superhero\n",
        "conn = sqlite3.connect(\"superhero_db.sqlite\")\n",
        "query = \"\"\"\n",
        "    SELECT heroes.name, COUNT(battles.battle_id) AS total_battles\n",
        "    FROM battles\n",
        "    JOIN heroes ON battles.hero_id = heroes.hero_id\n",
        "    GROUP BY heroes.name\n",
        "    ORDER BY total_battles DESC;\n",
        "\"\"\"\n",
        "\n",
        "df_battles = pd.read_sql_query(query, conn)\n",
        "conn.close()\n",
        "\n",
        "#plotting the data\n",
        "plt.figure(figsize=(10, 6))\n",
        "plt.bar(df_battles[\"name\"], df_battles[\"total_battles\"], color=\"blue\")\n",
        "plt.xlabel(\"superheroes\")\n",
        "plt.ylabel(\"number of battles\")\n",
        "plt.title(\"battles fought by each superhero\")\n",
        "plt.xticks(rotation=45)\n",
        "\n",
        "#show the plot\n",
        "plt.show()\n"
      ],
      "metadata": {
        "colab": {
          "base_uri": "https://localhost:8080/",
          "height": 504
        },
        "id": "r9ZwmpQSSS0f",
        "outputId": "abf516f7-8936-4f12-e666-29f34b908d44"
      },
      "id": "r9ZwmpQSSS0f",
      "execution_count": 59,
      "outputs": [
        {
          "output_type": "display_data",
          "data": {
            "text/plain": [
              "<Figure size 1000x600 with 1 Axes>"
            ],
            "image/png": "[encoded data removed]"
          },
          "metadata": {}
        }
      ]
    },
    {
      "cell_type": "markdown",
      "id": "89f56c05",
      "metadata": {
        "id": "89f56c05"
      },
      "source": [
        "## Submission Guidelines\n",
        "\n",
        "Each group must submit a **Google Colab Notebook (.ipynb)** containing:\n",
        "- ✅ **Database schema (DDL)**\n",
        "- ✅ **CSV imports & data insertion (DML)**\n",
        "- ✅ **SQL queries & results**\n",
        "- ✅ **Custom feature (bonus if applicable)**"
      ]
    },
    {
      "cell_type": "markdown",
      "id": "61477c9b",
      "metadata": {
        "id": "61477c9b"
      },
      "source": [
        "## Grading Criteria (Total: 25 Points)\n",
        "\n",
        "| Section                 | Points |\n",
        "|-------------------------|--------|\n",
        "| Database Setup          | 5      |\n",
        "| Data Importing         | 10     |\n",
        "| Querying the Data      | 10     |\n",
        "| Extra Feature          | 5      |\n",
        "| Bonus Challenge (Optional) | +5  |"
      ]
    },
    {
      "cell_type": "markdown",
      "id": "92bf6839",
      "metadata": {
        "id": "92bf6839"
      },
      "source": [
        "### Final Notes:\n",
        "- Be **creative** when designing superheroes and villains.\n",
        "- **Comment your code** to explain its functionality.\n",
        "- **Have fun** building your superhero universe!"
      ]
    }
  ],
  "metadata": {
    "colab": {
      "provenance": []
    },
    "language_info": {
      "name": "python"
    },
    "kernelspec": {
      "name": "python3",
      "display_name": "Python 3"
    }
  },
  "nbformat": 4,
  "nbformat_minor": 5
}